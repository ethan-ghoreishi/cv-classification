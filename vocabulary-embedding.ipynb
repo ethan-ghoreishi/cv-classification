{
 "cells": [
  {
   "cell_type": "code",
   "execution_count": 1,
   "metadata": {},
   "outputs": [],
   "source": [
    "import psycopg2\n",
    "import pandas as pd\n",
    "import numpy as np\n",
    "\n",
    "import re\n",
    "import nltk\n",
    "from nltk.corpus import stopwords\n",
    "from textblob import blob, Blobber, TextBlob, Sentence, Word, WordList, tokenizers, sentiments, taggers, parsers\n",
    "#import keras"
   ]
  },
  {
   "cell_type": "code",
   "execution_count": 2,
   "metadata": {},
   "outputs": [],
   "source": [
    "con = psycopg2.connect(dbname=\"skillsdb\",host=\"\"\n",
    "                ,port=\"\",user=\"\", password=\"\")\n",
    "curs = con.cursor()"
   ]
  },
  {
   "cell_type": "code",
   "execution_count": 3,
   "metadata": {},
   "outputs": [
    {
     "data": {
      "text/html": [
       "<div>\n",
       "<style>\n",
       "    .dataframe thead tr:only-child th {\n",
       "        text-align: right;\n",
       "    }\n",
       "\n",
       "    .dataframe thead th {\n",
       "        text-align: left;\n",
       "    }\n",
       "\n",
       "    .dataframe tbody tr th {\n",
       "        vertical-align: top;\n",
       "    }\n",
       "</style>\n",
       "<table border=\"1\" class=\"dataframe\">\n",
       "  <thead>\n",
       "    <tr style=\"text-align: right;\">\n",
       "      <th></th>\n",
       "      <th>count</th>\n",
       "    </tr>\n",
       "  </thead>\n",
       "  <tbody>\n",
       "    <tr>\n",
       "      <th>0</th>\n",
       "      <td>4863</td>\n",
       "    </tr>\n",
       "  </tbody>\n",
       "</table>\n",
       "</div>"
      ],
      "text/plain": [
       "   count\n",
       "0   4863"
      ]
     },
     "execution_count": 3,
     "metadata": {},
     "output_type": "execute_result"
    }
   ],
   "source": [
    "pd.read_sql_query('''select count (distinct user_id) from cv''',con)"
   ]
  },
  {
   "cell_type": "code",
   "execution_count": 40,
   "metadata": {},
   "outputs": [],
   "source": [
    "# import all data from redshift and insert into a dataframe\n",
    "\n",
    "data = pd.read_sql_query('''select distinct cv.user_id, cv_section_attribute.name,\n",
    "cv.value_char, cv.value_timestamp from cv_section_attribute \n",
    "left join cv on cv_section_attribute.id=cv.cv_section_attribute_id''',con)"
   ]
  },
  {
   "cell_type": "code",
   "execution_count": 26,
   "metadata": {},
   "outputs": [],
   "source": [
    "#data.to_pickle('./data.infer')"
   ]
  },
  {
   "cell_type": "code",
   "execution_count": 60,
   "metadata": {},
   "outputs": [
    {
     "data": {
      "text/plain": [
       "array(['name', 'locale', 'title', 'grad_year', 'skill', 'admit_year',\n",
       "       'summary', 'additional_info', 'school', 'description',\n",
       "       'work_location', 'headline', 'degree', 'resume_link', 'company',\n",
       "       'links', 'award', 'publication', 'start_date', 'email', 'phone',\n",
       "       'end_date'], dtype=object)"
      ]
     },
     "execution_count": 60,
     "metadata": {},
     "output_type": "execute_result"
    }
   ],
   "source": [
    "data['name'].drop_duplicates().values"
   ]
  },
  {
   "cell_type": "code",
   "execution_count": 41,
   "metadata": {},
   "outputs": [
    {
     "data": {
      "text/html": [
       "<div>\n",
       "<style>\n",
       "    .dataframe thead tr:only-child th {\n",
       "        text-align: right;\n",
       "    }\n",
       "\n",
       "    .dataframe thead th {\n",
       "        text-align: left;\n",
       "    }\n",
       "\n",
       "    .dataframe tbody tr th {\n",
       "        vertical-align: top;\n",
       "    }\n",
       "</style>\n",
       "<table border=\"1\" class=\"dataframe\">\n",
       "  <thead>\n",
       "    <tr style=\"text-align: right;\">\n",
       "      <th></th>\n",
       "      <th>user_id</th>\n",
       "      <th>name</th>\n",
       "      <th>value_char</th>\n",
       "      <th>value_timestamp</th>\n",
       "    </tr>\n",
       "  </thead>\n",
       "  <tbody>\n",
       "    <tr>\n",
       "      <th>0</th>\n",
       "      <td>1.837377e+11</td>\n",
       "      <td>name</td>\n",
       "      <td>Assistant Teacher</td>\n",
       "      <td>NaT</td>\n",
       "    </tr>\n",
       "    <tr>\n",
       "      <th>1</th>\n",
       "      <td>1.837377e+11</td>\n",
       "      <td>locale</td>\n",
       "      <td>Hilliard, OH</td>\n",
       "      <td>NaT</td>\n",
       "    </tr>\n",
       "    <tr>\n",
       "      <th>2</th>\n",
       "      <td>1.837377e+11</td>\n",
       "      <td>title</td>\n",
       "      <td>Hourly Shift Manager</td>\n",
       "      <td>NaT</td>\n",
       "    </tr>\n",
       "    <tr>\n",
       "      <th>3</th>\n",
       "      <td>7.614795e+11</td>\n",
       "      <td>locale</td>\n",
       "      <td>Springfield, OH</td>\n",
       "      <td>NaT</td>\n",
       "    </tr>\n",
       "    <tr>\n",
       "      <th>5</th>\n",
       "      <td>7.614795e+11</td>\n",
       "      <td>skill</td>\n",
       "      <td>Check in / Check out, scheduling, consults, in...</td>\n",
       "      <td>NaT</td>\n",
       "    </tr>\n",
       "  </tbody>\n",
       "</table>\n",
       "</div>"
      ],
      "text/plain": [
       "        user_id    name                                         value_char  \\\n",
       "0  1.837377e+11    name                                  Assistant Teacher   \n",
       "1  1.837377e+11  locale                                       Hilliard, OH   \n",
       "2  1.837377e+11   title                               Hourly Shift Manager   \n",
       "3  7.614795e+11  locale                                    Springfield, OH   \n",
       "5  7.614795e+11   skill  Check in / Check out, scheduling, consults, in...   \n",
       "\n",
       "  value_timestamp  \n",
       "0             NaT  \n",
       "1             NaT  \n",
       "2             NaT  \n",
       "3             NaT  \n",
       "5             NaT  "
      ]
     },
     "execution_count": 41,
     "metadata": {},
     "output_type": "execute_result"
    }
   ],
   "source": [
    "# include specific CV attributes\n",
    "\n",
    "headings = ['locale','name','summary','headline','degree','school','company', 'title',\n",
    "            'work_location','description', 'award', 'publication', 'additional_info', \n",
    "            'skill']\n",
    "\n",
    "data = data[data['name'].isin(headings)]\n",
    "data.head()"
   ]
  },
  {
   "cell_type": "code",
   "execution_count": 42,
   "metadata": {},
   "outputs": [],
   "source": [
    "## load nltk stopwords, tokenization parameters\n",
    "\n",
    "import string\n",
    "from nltk.stem.porter import PorterStemmer\n",
    "\n",
    "stopWords = stopwords.words('english')\n",
    "\n",
    "tokenizer_prefs = {\n",
    "    'tokenizer' : nltk.tokenize.PunktSentenceTokenizer(),\n",
    "#     'token_format' : 'lemma',\n",
    "    'token_format' : 'stem',\n",
    "    'spell_correct' : False,\n",
    "    'np_extract': None,\n",
    "    'pos_tagger': None,\n",
    "    'analyzer': None,\n",
    "    'classifier': None, \n",
    "    'clean_html': False\n",
    "}\n",
    "\n",
    "stemmer = PorterStemmer()"
   ]
  },
  {
   "cell_type": "code",
   "execution_count": 338,
   "metadata": {},
   "outputs": [],
   "source": [
    "def clean_data(data, **kwargs):\n",
    "    '''\n",
    "    Cleans text data by:\n",
    "    1.  force lowercase\n",
    "    2.  remove non-ascii chars\n",
    "    3.  standardize whitespace\n",
    "    4.  remove digits\n",
    "    5.  remove control characters\n",
    "    6.  remove URL patterns\n",
    "    '''\n",
    "    df = data.copy()\n",
    "#     translator= str.maketrans({a:None for a in ' '.join(stopWords)})    \n",
    "#     translator=str.maketrans('','',string.punctuation)\n",
    "#     translator=str.maketrans('','',' '.join(stopWords))\n",
    "    \n",
    "    # remove non-ascii chars\n",
    "    try:\n",
    "        df['value_char'] = df['value_char'].dropna().map(lambda x: \"\".join(i for i in x.strip() if ord(i)<128))\n",
    "#         df['value_char'] = df['value_char'].dropna().map(lambda x: [i for i in x.strip() if i not in stopWords])\n",
    "#         df['value_char'] = data['value_char'].dropna().map(lambda x: x.translate(translator))\n",
    "    except UnicodeDecodeError:\n",
    "        print(UnicodeDecodeError)\n",
    "        df['value_char'] = df['value_char'].dropna().map(lambda x: x.strip())\n",
    "\n",
    "\n",
    "    url_pattern = \"((http|ftp|https):\\/\\/)?[\\w\\-_]+(\\.[\\w\\-_]+)+([\\w\\-\\.,@?^=%&amp;:/~\\+#]*[\\w\\-\\@?^=%&amp;/~\\+#])?\"\n",
    "\n",
    "    re_URL = re.compile(url_pattern)\n",
    "#     re_TAG = re.compile(\"(<[phl]>)\", re.IGNORECASE)\n",
    "    re_WS = re.compile(\"/[^\\S\\n]/\")\n",
    "#     re_DIGIT = re.compile(\"\\d\")\n",
    "    re_CTRL = re.compile(\"[\\x00-\\x11\\x03-\\x1F]+\")\n",
    "    re_HI = re.compile(\"[\\x80-\\xFF]+\")\n",
    "    re_NWC = re.compile(\"[!;<>?{}\\/~`#=@#$%^&*()_+]\")\n",
    "    \n",
    "    df['value_char'] = df['value_char'].map(lambda x: re_HI.sub(' ', x) if type(x) == str else None)\n",
    "    df['value_char'] = df['value_char'].map(lambda x: re_CTRL.sub(' ', x) if type(x) == str else None)\n",
    "    df['value_char'] = df['value_char'].map(lambda x: re_URL.sub(' ', x) if type(x) == str else None)\n",
    "#     data[prefix] = data[prefix].map(lambda x: re_DIGIT.sub(' ', x))\n",
    "    df['value_char'] = df['value_char'].map(lambda x: re_WS.sub(' ', x) if type(x) == str else None)        \n",
    "    df['value_char'] = df['value_char'].map(lambda x: re_NWC.sub(' ', x) if type(x) == str else None)\n",
    "    \n",
    "\n",
    "    # create a blon using TextBlob\n",
    "    token_format = kwargs['token_format']\n",
    "    tokenizer = kwargs['tokenizer']\n",
    "    pos_tagger = kwargs['pos_tagger']\n",
    "    analyzer = kwargs['analyzer']\n",
    "    classifier = kwargs['classifier']\n",
    "    np_extract = kwargs['np_extract']\n",
    "    \n",
    "    df['value_char'] = df['value_char'].dropna().map(lambda l: TextBlob(l.strip(),\n",
    "                                          tokenizer=tokenizer,\n",
    "                                           np_extractor=np_extract,\n",
    "                                           pos_tagger=pos_tagger,\n",
    "                                           analyzer=analyzer) if l is not None else None)\n",
    "    df['value_char'] = df['value_char'].dropna().map(lambda x: x.lower())\n",
    "\n",
    "    df_sentences = df.copy()\n",
    "    # tokenize the document into sentences from blob object\n",
    "    df_sentences['value_char'] = df_sentences['value_char'].dropna().map(lambda s: list(s.sentences if s is not None else None))\n",
    "    \n",
    "    df_words = df_sentences.copy()\n",
    "    # tokenize each sentence into words\n",
    "#     df_words = df_sentences['value_char'].map(lambda l: map(lambda w: w.strip().words if w is not None and len(w)>1 else None, l))\n",
    "    #tokenize sentence into words and remove none vaues and single letters\n",
    "    df_words['value_char'] = df_words['value_char'].dropna().map(lambda l: list(w.strip().words for w in l if w is not None and len(w)>1))\n",
    "    # remove stopwords\n",
    "    if token_format == 'stem':\n",
    "        df_words['value_char'] = df_words['value_char'].dropna().map(lambda i: list(stemmer.stem(k.lower()) for j in i for k in j if not k.lower() in stopWords))\n",
    "    else:\n",
    "        df_words['value_char'] = df_words['value_char'].dropna().map(lambda i: list(k.lower() for j in i for k in j if not k.lower() in stopWords))\n",
    "    #    df_words['value_char'] = df['value_char'].map(lambda w: w.words if w is not None else None)    \n",
    "#     if token_format == 'stem':\n",
    "#         df_words['value_char'].map(lambda l: list(stemmer.stem(w) for w in l if type(w) == str))\n",
    "\n",
    "    \n",
    "    return df, df_words, df_sentences"
   ]
  },
  {
   "cell_type": "code",
   "execution_count": 339,
   "metadata": {},
   "outputs": [],
   "source": [
    "df, df_words, df_sentences = clean_data(data, **tokenizer_prefs)"
   ]
  },
  {
   "cell_type": "code",
   "execution_count": 25,
   "metadata": {},
   "outputs": [],
   "source": [
    "# from multiprocessing import Pool\n",
    "# from multiprocessing.dummy import Pool as ThreadPool\n",
    "\n",
    "# pool = ThreadPool()"
   ]
  },
  {
   "cell_type": "code",
   "execution_count": 11,
   "metadata": {},
   "outputs": [
    {
     "data": {
      "text/html": [
       "<div>\n",
       "<style>\n",
       "    .dataframe thead tr:only-child th {\n",
       "        text-align: right;\n",
       "    }\n",
       "\n",
       "    .dataframe thead th {\n",
       "        text-align: left;\n",
       "    }\n",
       "\n",
       "    .dataframe tbody tr th {\n",
       "        vertical-align: top;\n",
       "    }\n",
       "</style>\n",
       "<table border=\"1\" class=\"dataframe\">\n",
       "  <thead>\n",
       "    <tr style=\"text-align: right;\">\n",
       "      <th></th>\n",
       "      <th>user_id</th>\n",
       "      <th>locale</th>\n",
       "      <th>name</th>\n",
       "      <th>summary</th>\n",
       "      <th>headline</th>\n",
       "      <th>degree</th>\n",
       "      <th>school</th>\n",
       "      <th>company</th>\n",
       "      <th>title</th>\n",
       "      <th>work_location</th>\n",
       "      <th>description</th>\n",
       "      <th>award</th>\n",
       "      <th>publication</th>\n",
       "      <th>additional_info</th>\n",
       "    </tr>\n",
       "  </thead>\n",
       "  <tbody>\n",
       "    <tr>\n",
       "      <th>0</th>\n",
       "      <td>2.858701e+11</td>\n",
       "      <td>(L, o, n, d, o, n)</td>\n",
       "      <td>(T, e, a, c, h, i, n, g,  , A, s, s, o, c, i, ...</td>\n",
       "      <td>(H, a, v, i, n, g,  , w, o, r, k, e, d,  , a, ...</td>\n",
       "      <td>(R, e, s, e, a, r, c, h, ,,  , W, r, i, t, i, ...</td>\n",
       "      <td>(P, h, D,  , d, i,  , H, i, s, t, o, r, y)</td>\n",
       "      <td>(U, n, i, v, e, r, s, i, t, y,  , o, f,  , E, ...</td>\n",
       "      <td>NaN</td>\n",
       "      <td>NaN</td>\n",
       "      <td>NaN</td>\n",
       "      <td>NaN</td>\n",
       "      <td>NaN</td>\n",
       "      <td>NaN</td>\n",
       "      <td>NaN</td>\n",
       "    </tr>\n",
       "    <tr>\n",
       "      <th>1</th>\n",
       "      <td>2.990834e+11</td>\n",
       "      <td>(L, o, n, d, o, n)</td>\n",
       "      <td>(R, e, g, i, s, t, e, r, e, d,  , M, a, n, a, ...</td>\n",
       "      <td>NaN</td>\n",
       "      <td>(R, e, g, i, s, t, e, r, e, d,  , M, a, n, a, ...</td>\n",
       "      <td>NaN</td>\n",
       "      <td>(C, h, a, r, t, e, r, e, d,  , M, a, n, a, g, ...</td>\n",
       "      <td>NaN</td>\n",
       "      <td>NaN</td>\n",
       "      <td>NaN</td>\n",
       "      <td>NaN</td>\n",
       "      <td>NaN</td>\n",
       "      <td>NaN</td>\n",
       "      <td>NaN</td>\n",
       "    </tr>\n",
       "    <tr>\n",
       "      <th>2</th>\n",
       "      <td>2.076034e+11</td>\n",
       "      <td>(L, o, n, d, o, n)</td>\n",
       "      <td>(F, r, e, e, l, a, n, c, e,  , G, r, a, p, h, ...</td>\n",
       "      <td>NaN</td>\n",
       "      <td>NaN</td>\n",
       "      <td>(P, h, D,  , i, n,  , A, r, t,  ,  , p, r, a, ...</td>\n",
       "      <td>(L, a, n, c, a, s, t, e, r,  , U, n, i, v, e, ...</td>\n",
       "      <td>(L, a, n, c, a, s, t, e, r,  , U, n, i, v, e, ...</td>\n",
       "      <td>(F, r, e, e, l, a, n, c, e,  , G, r, a, p, h, ...</td>\n",
       "      <td>(L, a, n, c, a, s, t, e, r,  , U, n, i, v, e, ...</td>\n",
       "      <td>(K, e, y,  , r, e, s, p, o, n, s, i, b, i, l, ...</td>\n",
       "      <td>NaN</td>\n",
       "      <td>NaN</td>\n",
       "      <td>(L, a, n, g, u, a, g, e,  , a, n, d,  , I, T, ...</td>\n",
       "    </tr>\n",
       "  </tbody>\n",
       "</table>\n",
       "</div>"
      ],
      "text/plain": [
       "        user_id              locale  \\\n",
       "0  2.858701e+11  (L, o, n, d, o, n)   \n",
       "1  2.990834e+11  (L, o, n, d, o, n)   \n",
       "2  2.076034e+11  (L, o, n, d, o, n)   \n",
       "\n",
       "                                                name  \\\n",
       "0  (T, e, a, c, h, i, n, g,  , A, s, s, o, c, i, ...   \n",
       "1  (R, e, g, i, s, t, e, r, e, d,  , M, a, n, a, ...   \n",
       "2  (F, r, e, e, l, a, n, c, e,  , G, r, a, p, h, ...   \n",
       "\n",
       "                                             summary  \\\n",
       "0  (H, a, v, i, n, g,  , w, o, r, k, e, d,  , a, ...   \n",
       "1                                                NaN   \n",
       "2                                                NaN   \n",
       "\n",
       "                                            headline  \\\n",
       "0  (R, e, s, e, a, r, c, h, ,,  , W, r, i, t, i, ...   \n",
       "1  (R, e, g, i, s, t, e, r, e, d,  , M, a, n, a, ...   \n",
       "2                                                NaN   \n",
       "\n",
       "                                              degree  \\\n",
       "0         (P, h, D,  , d, i,  , H, i, s, t, o, r, y)   \n",
       "1                                                NaN   \n",
       "2  (P, h, D,  , i, n,  , A, r, t,  ,  , p, r, a, ...   \n",
       "\n",
       "                                              school  \\\n",
       "0  (U, n, i, v, e, r, s, i, t, y,  , o, f,  , E, ...   \n",
       "1  (C, h, a, r, t, e, r, e, d,  , M, a, n, a, g, ...   \n",
       "2  (L, a, n, c, a, s, t, e, r,  , U, n, i, v, e, ...   \n",
       "\n",
       "                                             company  \\\n",
       "0                                                NaN   \n",
       "1                                                NaN   \n",
       "2  (L, a, n, c, a, s, t, e, r,  , U, n, i, v, e, ...   \n",
       "\n",
       "                                               title  \\\n",
       "0                                                NaN   \n",
       "1                                                NaN   \n",
       "2  (F, r, e, e, l, a, n, c, e,  , G, r, a, p, h, ...   \n",
       "\n",
       "                                       work_location  \\\n",
       "0                                                NaN   \n",
       "1                                                NaN   \n",
       "2  (L, a, n, c, a, s, t, e, r,  , U, n, i, v, e, ...   \n",
       "\n",
       "                                         description award publication  \\\n",
       "0                                                NaN   NaN         NaN   \n",
       "1                                                NaN   NaN         NaN   \n",
       "2  (K, e, y,  , r, e, s, p, o, n, s, i, b, i, l, ...   NaN         NaN   \n",
       "\n",
       "                                     additional_info  \n",
       "0                                                NaN  \n",
       "1                                                NaN  \n",
       "2  (L, a, n, g, u, a, g, e,  , a, n, d,  , I, T, ...  "
      ]
     },
     "execution_count": 11,
     "metadata": {},
     "output_type": "execute_result"
    }
   ],
   "source": [
    "''' \n",
    "create a dataframe for each cv attribute, and merge all these dataframes together\n",
    "to create a dataframe with attributes as the headings\n",
    "'''\n",
    "\n",
    "df_all_columns = pd.DataFrame()\n",
    "for i, heading in enumerate(headings):\n",
    "    globals()['cv_'+str(heading)] = df[df['name'] == str(heading)][['user_id','value_char']]\n",
    "    if i == 0:\n",
    "        pass\n",
    "    if i == 1:\n",
    "        df_all_columns = globals()['cv_'+str(headings[0])].merge(globals()['cv_'+str(headings[1])], how='outer', on='user_id') \n",
    "    if i > 1 and i < 13:\n",
    "        df_all_columns = df_all_columns.merge(globals()['cv_'+str(headings[i])], how='outer', on='user_id') \n",
    "df_all_columns.columns = ['user_id']+headings[0:13]\n",
    "df_all_columns.head(3)"
   ]
  },
  {
   "cell_type": "code",
   "execution_count": 24,
   "metadata": {},
   "outputs": [],
   "source": [
    " model_name = 'train_model'\n",
    " # Set values for various word2vec parameters\n",
    " num_features = 300    # Word vector dimensionality                      \n",
    " min_word_count = 40   # Minimum word count                        \n",
    " num_workers = 8       # Number of threads to run in parallel\n",
    " context = 10          # Context window size\n",
    " # downsampling = 1e-3   # Downsample setting for frequent words\n",
    " if not os.path.exists(model_name): \n",
    "     # Initialize and train the model (this will take some time)\n",
    "     model = word2vec.Word2Vec(sentences, workers=num_workers, \\\n",
    "                 size=num_features, min_count = min_word_count, \\\n",
    "                 window = context, sample = downsampling)\n",
    "\n",
    "     # If you don't plan to train the model any further, calling \n",
    "     # init_sims will make the model much more memory-efficient.\n",
    "     model.init_sims(replace=True)\n",
    "\n",
    "     # It can be helpful to create a meaningful model name and \n",
    "     # save the model for later use. You can load it later using Word2Vec.load()\n",
    "     model.save(model_name)\n",
    " else:\n",
    "     model = Word2Vec.load(model_name)"
   ]
  },
  {
   "cell_type": "code",
   "execution_count": 341,
   "metadata": {},
   "outputs": [],
   "source": [
    "# Load wiki_dbow doc2vec model\n",
    "\n",
    "import gensim\n",
    "from gensim.models import Doc2Vec\n",
    "import multiprocessing\n",
    "\n",
    "cores = multiprocessing.cpu_count()\n",
    "assert gensim.models.doc2vec.FAST_VERSION > -1\n",
    "\n",
    "# model = Doc2Vec.load('./enwiki_dbow/doc2vec.bin')\n",
    "# model.syn0.shape"
   ]
  },
  {
   "cell_type": "code",
   "execution_count": 256,
   "metadata": {},
   "outputs": [],
   "source": [
    "# model = Doc2Vec(df['value_char'].dropna(), workers=8)\n",
    "# model.save('trained_docv2ec.bin')"
   ]
  },
  {
   "cell_type": "code",
   "execution_count": 466,
   "metadata": {},
   "outputs": [],
   "source": [
    "# model.save(fname)\n",
    "model_cv = Doc2Vec.load('trained_docv2ec.bin')"
   ]
  },
  {
   "cell_type": "code",
   "execution_count": null,
   "metadata": {},
   "outputs": [],
   "source": [
    "# def get_feature_vecs(cv_values, model, num_features=300):\n",
    "#     \"\"\"\n",
    "#     Calculate feature vectors for all values\n",
    "#     \"\"\"\n",
    "#     counter = 0\n",
    "#     feature_vecs = np.zeros((len(cv_values.drop_duplicates()),num_features), dtype='float32')  # pre-initialize (for speed)\n",
    "# #     feature_vecs = []\n",
    "    \n",
    "#     for value in cv_values:\n",
    "#         feature_vecs[counter] = model.infer_vector(value)\n",
    "#         counter = counter + 1\n",
    "#     return feature_vecs"
   ]
  },
  {
   "cell_type": "code",
   "execution_count": 467,
   "metadata": {},
   "outputs": [],
   "source": [
    "def get_feature_vecs(df, model, num_features=300):\n",
    "    \"\"\"\n",
    "    Calculate feature vectors for all values\n",
    "    \"\"\"\n",
    "#     counter = 0\n",
    "#     feature_vecs = np.zeros((len(cv_values.drop_duplicates()),num_features), dtype='float32')  # pre-initialize (for speed)\n",
    "#     feature_vecs = []\n",
    "    df_doc_vectors = df[['user_id','name','value_char']].dropna(subset=['value_char'], how='all').copy()\n",
    "    df_doc_vectors['doc_vector'] = ''\n",
    "    for index, value in df_doc_vectors.iterrows():\n",
    "        df_doc_vectors.set_value(index, 'doc_vector', model.infer_vector(value['value_char']))\n",
    "#         counter = counter num_features+ 1\n",
    "    return df_doc_vectors"
   ]
  },
  {
   "cell_type": "code",
   "execution_count": 475,
   "metadata": {},
   "outputs": [],
   "source": [
    "df_doc_vectors = get_feature_vecs(df, model_cv,100)"
   ]
  },
  {
   "cell_type": "code",
   "execution_count": 123,
   "metadata": {},
   "outputs": [],
   "source": [
    "# df_doc_vectors.to_pickle('./df_doc_vectors.infer')"
   ]
  },
  {
   "cell_type": "code",
   "execution_count": 476,
   "metadata": {},
   "outputs": [],
   "source": [
    "df_groupby_user_id = df_doc_vectors.groupby(by='user_id')\n",
    "y_train = df_groupby_user_id.apply(lambda x: x[(x['name'] == 'title') |\n",
    "                                               (x['name'] == 'name') | \n",
    "                                               (x['name'] == 'company')]['doc_vector'].mean())\n",
    "y_train_df = pd.DataFrame(y_train).reset_index()\n",
    "y_train_df.columns = ['user_id', 'vectors']"
   ]
  },
  {
   "cell_type": "code",
   "execution_count": 477,
   "metadata": {},
   "outputs": [],
   "source": [
    "x_train = df_groupby_user_id.apply(lambda x: x[(x['name'] == 'skill') |\n",
    "                                               (x['name'] == 'degree') | \n",
    "                                               (x['name'] == 'award') |\n",
    "                                              (x['name'] == 'publication') |\n",
    "                                                (x['name'] == 'locale')\n",
    "                                              ]['doc_vector'].mean())\n",
    "x_train_df = pd.DataFrame(x_train).reset_index()\n",
    "x_train_df.columns = ['user_id', 'vectors']"
   ]
  },
  {
   "cell_type": "code",
   "execution_count": 484,
   "metadata": {},
   "outputs": [],
   "source": [
    "y_train_vectors = np.array([model_cv.docvecs.most_similar([i], topn=1) for i in y_train_df['vectors']])"
   ]
  },
  {
   "cell_type": "code",
   "execution_count": 485,
   "metadata": {},
   "outputs": [],
   "source": [
    "x_train_vectors = np.array([i for i in y_train_df['vectors']])"
   ]
  },
  {
   "cell_type": "code",
   "execution_count": 486,
   "metadata": {},
   "outputs": [
    {
     "data": {
      "text/plain": [
       "(4863, 100)"
      ]
     },
     "execution_count": 486,
     "metadata": {},
     "output_type": "execute_result"
    }
   ],
   "source": [
    "x_train_vectors.shape"
   ]
  },
  {
   "cell_type": "code",
   "execution_count": 487,
   "metadata": {},
   "outputs": [],
   "source": [
    "# model_cv.docvecs.most_similar([y_train_df['vectors'][30]], topn=20)"
   ]
  },
  {
   "cell_type": "code",
   "execution_count": 488,
   "metadata": {},
   "outputs": [],
   "source": [
    "from sklearn.ensemble import RandomForestClassifier\n",
    "\n",
    "# Fit a random forest to the training data, using 100 trees\n",
    "forest = RandomForestClassifier(n_estimators = 100, n_jobs = -1)"
   ]
  },
  {
   "cell_type": "code",
   "execution_count": 492,
   "metadata": {},
   "outputs": [],
   "source": [
    "y_train_normalized = np.array([i[0][0][0] for i in y_train_vectors])"
   ]
  },
  {
   "cell_type": "code",
   "execution_count": 499,
   "metadata": {},
   "outputs": [
    {
     "data": {
      "text/plain": [
       "4863"
      ]
     },
     "execution_count": 499,
     "metadata": {},
     "output_type": "execute_result"
    }
   ],
   "source": [
    "len(y_train_normalized)"
   ]
  },
  {
   "cell_type": "code",
   "execution_count": 458,
   "metadata": {},
   "outputs": [
    {
     "data": {
      "text/plain": [
       "(1, 4863)"
      ]
     },
     "execution_count": 458,
     "metadata": {},
     "output_type": "execute_result"
    }
   ],
   "source": [
    "np.array(x_train_df['vectors']).reshape(1, -1).shape"
   ]
  },
  {
   "cell_type": "code",
   "execution_count": 500,
   "metadata": {},
   "outputs": [
    {
     "name": "stdout",
     "output_type": "stream",
     "text": [
      "Fitting a random forest to labeled training data...\n"
     ]
    }
   ],
   "source": [
    "print(\"Fitting a random forest to labeled training data...\")\n",
    "forest = forest.fit(x_train_vectors, y_train_normalized)"
   ]
  },
  {
   "cell_type": "code",
   "execution_count": 510,
   "metadata": {},
   "outputs": [
    {
     "data": {
      "text/plain": [
       "array(['side'],\n",
       "      dtype='<U27')"
      ]
     },
     "execution_count": 510,
     "metadata": {},
     "output_type": "execute_result"
    }
   ],
   "source": [
    "forest.predict(model_cv.infer_vector('I hava a phd').reshape(1, -1))"
   ]
  },
  {
   "cell_type": "code",
   "execution_count": 250,
   "metadata": {},
   "outputs": [
    {
     "data": {
      "text/plain": [
       "KMeans(algorithm='auto', copy_x=True, init='k-means++', max_iter=300,\n",
       "    n_clusters=4, n_init=10, n_jobs=1, precompute_distances='auto',\n",
       "    random_state=0, tol=0.0001, verbose=0)"
      ]
     },
     "execution_count": 250,
     "metadata": {},
     "output_type": "execute_result"
    }
   ],
   "source": [
    "from sklearn.cluster import KMeans\n",
    "\n",
    "KMeans(n_clusters=4, random_state=0).fit(df_doc_vectors_reshaped)"
   ]
  },
  {
   "cell_type": "code",
   "execution_count": 11,
   "metadata": {},
   "outputs": [
    {
     "data": {
      "text/plain": [
       "[[100455018610.0,\n",
       "  ' Determined selfmotivator highly organised and reliable Experienced and innovative in various accounting procedures High personal integrity and able to relate to and create trust in all Highly articulate and confident able to motivate and communicate to achieve exceptional business performances Persistent and flexible approach to the mutually beneficial achievement of company business plans Friendly approachable'],\n",
       " [100508885550.0,\n",
       "  'I am a Masters student studying Zoology at the University of Manchester Prior to university I was under full time employment for AP Moller Maersk  a multinational shipping company Here I gained a plethora of experience in negotiating and organizational skills systems and business development a firm sense of responsibility and capacity to work hard under pressure I have been tutoring students in GCSE and A level biology for almost 12 months which has given me a firm grasp on lesson planning and effective communication']]"
      ]
     },
     "execution_count": 11,
     "metadata": {},
     "output_type": "execute_result"
    }
   ],
   "source": [
    "## generate a list of cv summaries with the respective user_ids from the dataframe\n",
    "\n",
    "heads = []\n",
    "indicies = []\n",
    "\n",
    "for i, row in data.iterrows():\n",
    "    if row[1] == 'summary':\n",
    "        heads.append([row[0], row[2]])\n",
    "        indicies.append(row[0])\n",
    "\n",
    "heads.sort(key=lambda x: x[0])\n",
    "heads[:2]"
   ]
  },
  {
   "cell_type": "code",
   "execution_count": 12,
   "metadata": {},
   "outputs": [
    {
     "data": {
      "text/plain": [
       "[[100455018610,\n",
       "  'locale: Kirkby, name: Finance Analyst, headline: Finance Analyst  CPI Card Group  UK Ltd, degree: BA en Business Information Systems and Combined Studies, school: Liverpool John Moores University'],\n",
       " [100508885550,\n",
       "  'name: Personal Science Tutor GCSE, locale: Manchester, headline: Presonal Science Tutor GCSE  TutorFuture, degree: MSci di Zoology, school: The University of Manchester']]"
      ]
     },
     "execution_count": 12,
     "metadata": {},
     "output_type": "execute_result"
    }
   ],
   "source": [
    "## interate through the dataframe and create a list of cv attributes of each cv with the respective user_ids\n",
    "\n",
    "from itertools import groupby\n",
    "\n",
    "cv_attributes = []\n",
    "\n",
    "for i, row in data.iterrows():\n",
    "    if row[0] in indicies and row[1] != 'summary' and row[2] is not None:\n",
    "        cv_attributes.append([int(row[0]), row[1] + ': ' + row[2]])\n",
    "        \n",
    "cv_attributes.sort(key=lambda x: x[0])\n",
    "        \n",
    "description = [[user_id, [cv_field[1] for cv_field in cv_fields\n",
    "                         ]] for user_id, cv_fields in groupby(cv_attributes, \n",
    "                                                              lambda x: x[0])]\n",
    "# description= [user_id for user_id, cv_fields in groupby(cv_attributes, lambda x: int(x[0]))]\n",
    "desc = [[p[0], ', '.join(p[1][0:])] for p in description]\n",
    "# desc.sort(key=lambda x: x[0])\n",
    "# desc[:5]\n",
    "desc.sort()\n",
    "desc[:2]"
   ]
  },
  {
   "cell_type": "code",
   "execution_count": 13,
   "metadata": {
    "collapsed": true
   },
   "outputs": [],
   "source": [
    "user_ids = []\n",
    "for i in desc:\n",
    "    user_ids.append(i[0])\n",
    "\n",
    "## can use the list indicies insted!\n",
    "user_ids.sort()\n",
    "\n",
    "desc_data = []\n",
    "heads_data = []\n",
    "\n",
    "for i, u_id in enumerate(user_ids):\n",
    "    if desc[i][0] == u_id and heads[i][0] == u_id:\n",
    "        desc_data.append(desc[i][1])\n",
    "        heads_data.append(heads[i][1])"
   ]
  },
  {
   "cell_type": "markdown",
   "metadata": {},
   "source": [
    "Generate intial word embedding for headlines and description"
   ]
  },
  {
   "cell_type": "markdown",
   "metadata": {},
   "source": [
    "The embedding is limited to a fixed vocabulary size (`vocab_size`) but\n",
    "a vocabulary of all the words that appeared in the data is built."
   ]
  },
  {
   "cell_type": "code",
   "execution_count": 14,
   "metadata": {
    "collapsed": true
   },
   "outputs": [],
   "source": [
    "FN = 'vocabulary-embedding'"
   ]
  },
  {
   "cell_type": "code",
   "execution_count": 15,
   "metadata": {
    "collapsed": true
   },
   "outputs": [],
   "source": [
    "seed = 42"
   ]
  },
  {
   "cell_type": "code",
   "execution_count": 16,
   "metadata": {
    "collapsed": true
   },
   "outputs": [],
   "source": [
    "vocab_size = 40000"
   ]
  },
  {
   "cell_type": "code",
   "execution_count": 17,
   "metadata": {
    "collapsed": true
   },
   "outputs": [],
   "source": [
    "embedding_dim = 100"
   ]
  },
  {
   "cell_type": "code",
   "execution_count": 18,
   "metadata": {
    "collapsed": true
   },
   "outputs": [],
   "source": [
    "lower = True # dont lower case the text"
   ]
  },
  {
   "cell_type": "markdown",
   "metadata": {},
   "source": [
    "# read tokenized headlines and descriptions"
   ]
  },
  {
   "cell_type": "code",
   "execution_count": 279,
   "metadata": {},
   "outputs": [],
   "source": [
    "# if lower:\n",
    "#     heads_data = [h.lower() for h in heads_data]"
   ]
  },
  {
   "cell_type": "code",
   "execution_count": 278,
   "metadata": {},
   "outputs": [],
   "source": [
    "# if lower:\n",
    "#     desc_data = [h.lower() for h in desc_data]"
   ]
  },
  {
   "cell_type": "code",
   "execution_count": 22,
   "metadata": {},
   "outputs": [
    {
     "data": {
      "text/plain": [
       "' determined selfmotivator highly organised and reliable experienced and innovative in various accounting procedures high personal integrity and able to relate to and create trust in all highly articulate and confident able to motivate and communicate to achieve exceptional business performances persistent and flexible approach to the mutually beneficial achievement of company business plans friendly approachable'"
      ]
     },
     "execution_count": 22,
     "metadata": {},
     "output_type": "execute_result"
    }
   ],
   "source": [
    "i=0\n",
    "heads_data[i]"
   ]
  },
  {
   "cell_type": "code",
   "execution_count": 23,
   "metadata": {},
   "outputs": [
    {
     "data": {
      "text/plain": [
       "'locale: kirkby, name: finance analyst, headline: finance analyst  cpi card group  uk ltd, degree: ba en business information systems and combined studies, school: liverpool john moores university'"
      ]
     },
     "execution_count": 23,
     "metadata": {},
     "output_type": "execute_result"
    }
   ],
   "source": [
    "desc_data[i]"
   ]
  },
  {
   "cell_type": "code",
   "execution_count": 24,
   "metadata": {
    "collapsed": true
   },
   "outputs": [],
   "source": [
    "# keywords[i]"
   ]
  },
  {
   "cell_type": "code",
   "execution_count": 25,
   "metadata": {},
   "outputs": [
    {
     "data": {
      "text/plain": [
       "(2273, 2263)"
      ]
     },
     "execution_count": 25,
     "metadata": {},
     "output_type": "execute_result"
    }
   ],
   "source": [
    "len(heads_data),len(set(heads_data))"
   ]
  },
  {
   "cell_type": "code",
   "execution_count": 26,
   "metadata": {},
   "outputs": [
    {
     "data": {
      "text/plain": [
       "(2273, 2273)"
      ]
     },
     "execution_count": 26,
     "metadata": {},
     "output_type": "execute_result"
    }
   ],
   "source": [
    "len(desc_data),len(set(desc_data))"
   ]
  },
  {
   "cell_type": "markdown",
   "metadata": {},
   "source": [
    "# build vocabulary"
   ]
  },
  {
   "cell_type": "code",
   "execution_count": 28,
   "metadata": {
    "collapsed": true
   },
   "outputs": [],
   "source": [
    "from collections import Counter\n",
    "from itertools import chain\n",
    "def get_vocab(lst):\n",
    "    vocabcount = Counter(w for txt in lst for w in txt.split() if not w in stopWords)\n",
    "    vocab = list(map(lambda x: x[0], sorted(vocabcount.items(), key=lambda x: -x[1])))\n",
    "    return vocab, vocabcount"
   ]
  },
  {
   "cell_type": "code",
   "execution_count": 29,
   "metadata": {
    "collapsed": true
   },
   "outputs": [],
   "source": [
    "vocab, vocabcount = get_vocab(heads_data+desc_data)"
   ]
  },
  {
   "cell_type": "markdown",
   "metadata": {
    "collapsed": true
   },
   "source": [
    "most popular tokens"
   ]
  },
  {
   "cell_type": "code",
   "execution_count": 30,
   "metadata": {},
   "outputs": [
    {
     "name": "stdout",
     "output_type": "stream",
     "text": [
      "['data', 'business', 'skill:', 'test', 'project', 'management', 'analysis', 'description:', 'testing', 'using', 'company:', 'work_location:', 'title:', 'requirements', 'experience', 'team', 'system', 'development', 'process', 'degree:', 'school:', 'ms', 'skills', 'sql', 'new', 'work', 'university', 'name:', 'analyst,', 'locale:', 'systems', 'software', 'support', 'design', 'quality', 'worked', 'technical', 'user', 'developed', 'research', 'working', 'application', 'headline:', 'reports', 'tools', 'various', 'analyst', 'customer', 'including', 'cases']\n",
      "... 57149\n"
     ]
    }
   ],
   "source": [
    "print(vocab[:50])\n",
    "print('...',len(vocab))"
   ]
  },
  {
   "cell_type": "code",
   "execution_count": 31,
   "metadata": {},
   "outputs": [
    {
     "data": {
      "image/png": "[encoded data removed]",
      "text/plain": [
       "<matplotlib.figure.Figure at 0x7fcfcf452358>"
      ]
     },
     "metadata": {},
     "output_type": "display_data"
    }
   ],
   "source": [
    "import seaborn as sns\n",
    "import matplotlib.pyplot as plt\n",
    "%matplotlib inline\n",
    "plt.plot([vocabcount[w] for w in vocab]);\n",
    "plt.gca().set_xscale(\"log\", nonposx='clip')\n",
    "plt.gca().set_yscale(\"log\", nonposy='clip')\n",
    "plt.title('word distribution in headlines and discription')\n",
    "plt.xlabel('rank')\n",
    "plt.ylabel('total appearances');"
   ]
  },
  {
   "cell_type": "markdown",
   "metadata": {},
   "source": [
    "always nice to see [Zipf's law](https://en.wikipedia.org/wiki/Zipf%27s_law)"
   ]
  },
  {
   "cell_type": "markdown",
   "metadata": {},
   "source": [
    "# Index words"
   ]
  },
  {
   "cell_type": "code",
   "execution_count": 32,
   "metadata": {
    "collapsed": true
   },
   "outputs": [],
   "source": [
    "empty = 0 # RNN mask of no data\n",
    "eos = 1  # end of sentence\n",
    "start_idx = eos+1 # first real word"
   ]
  },
  {
   "cell_type": "code",
   "execution_count": 33,
   "metadata": {
    "collapsed": true
   },
   "outputs": [],
   "source": [
    "def get_idx(vocab, vocabcount):\n",
    "    word2idx = dict((word, idx+start_idx) for idx,word in enumerate(vocab))\n",
    "    word2idx['<empty>'] = empty\n",
    "    word2idx['<eos>'] = eos\n",
    "    \n",
    "    idx2word = dict((idx,word) for word,idx in word2idx.items())\n",
    "\n",
    "    return word2idx, idx2word"
   ]
  },
  {
   "cell_type": "code",
   "execution_count": 34,
   "metadata": {
    "collapsed": true
   },
   "outputs": [],
   "source": [
    "word2idx, idx2word = get_idx(vocab, vocabcount)"
   ]
  },
  {
   "cell_type": "markdown",
   "metadata": {},
   "source": [
    "# Word Embedding"
   ]
  },
  {
   "cell_type": "markdown",
   "metadata": {},
   "source": [
    "## read GloVe"
   ]
  },
  {
   "cell_type": "code",
   "execution_count": 35,
   "metadata": {
    "collapsed": true
   },
   "outputs": [],
   "source": [
    "from keras.utils.data_utils import get_file\n",
    "fname = 'glove.6B.%dd.txt'%embedding_dim\n",
    "import os\n",
    "datadir_base = os.path.expanduser(os.path.join('~', '.keras'))\n",
    "if not os.access(datadir_base, os.W_OK):\n",
    "    datadir_base = os.path.join('/tmp', '.keras')\n",
    "datadir = os.path.join(datadir_base, 'datasets')\n",
    "glove_name = os.path.join(datadir, fname)\n",
    "if not os.path.exists(glove_name):\n",
    "    path = 'glove.6B'\n",
    "    path = get_file(path, origin=\"http://nlp.stanford.edu/data/glove.6B.zip\")\n",
    "    !unzip {datadir}/{path}"
   ]
  },
  {
   "cell_type": "code",
   "execution_count": 36,
   "metadata": {},
   "outputs": [
    {
     "data": {
      "text/plain": [
       "'/home/ubuntu/.keras/datasets/glove.6B.100d.txt'"
      ]
     },
     "execution_count": 36,
     "metadata": {},
     "output_type": "execute_result"
    }
   ],
   "source": [
    "glove_name"
   ]
  },
  {
   "cell_type": "code",
   "execution_count": 37,
   "metadata": {},
   "outputs": [
    {
     "data": {
      "text/plain": [
       "'400000'"
      ]
     },
     "execution_count": 37,
     "metadata": {},
     "output_type": "execute_result"
    }
   ],
   "source": [
    "glove_n_symbols = !wc -l {glove_name}\n",
    "glove_n_symbols = (glove_n_symbols[0].split()[0])\n",
    "glove_n_symbols"
   ]
  },
  {
   "cell_type": "code",
   "execution_count": 38,
   "metadata": {
    "collapsed": true
   },
   "outputs": [],
   "source": [
    "glove_index_dict = {}\n",
    "glove_embedding_weights = np.empty((int(glove_n_symbols), embedding_dim))\n",
    "globale_scale=.1\n",
    "with open(glove_name, 'r') as fp:\n",
    "    i = 0\n",
    "    for l in fp:\n",
    "        l = l.strip().split()\n",
    "        w = l[0]\n",
    "        glove_index_dict[w] = i\n",
    "        glove_embedding_weights[i,:] = list(map(float,l[1:]))\n",
    "        i += 1\n",
    "glove_embedding_weights *= globale_scale"
   ]
  },
  {
   "cell_type": "code",
   "execution_count": 39,
   "metadata": {},
   "outputs": [
    {
     "data": {
      "text/plain": [
       "0.040815727600190289"
      ]
     },
     "execution_count": 39,
     "metadata": {},
     "output_type": "execute_result"
    }
   ],
   "source": [
    "glove_embedding_weights.std()"
   ]
  },
  {
   "cell_type": "code",
   "execution_count": 40,
   "metadata": {
    "collapsed": true
   },
   "outputs": [],
   "source": [
    "for w,i in glove_index_dict.items():\n",
    "    w = w.lower()\n",
    "    if w not in glove_index_dict:\n",
    "        glove_index_dict[w] = i"
   ]
  },
  {
   "cell_type": "markdown",
   "metadata": {},
   "source": [
    "## embedding matrix"
   ]
  },
  {
   "cell_type": "markdown",
   "metadata": {},
   "source": [
    "use GloVe to initialize embedding matrix"
   ]
  },
  {
   "cell_type": "code",
   "execution_count": 41,
   "metadata": {},
   "outputs": [
    {
     "name": "stdout",
     "output_type": "stream",
     "text": [
      "random-embedding/glove scale 0.0706949139514 std 0.0408138249575\n",
      "number of tokens, in small vocab, found in glove and copied to embedding 20256 0.5064\n"
     ]
    }
   ],
   "source": [
    "# generate random embedding with same scale as glove\n",
    "np.random.seed(seed)\n",
    "shape = (vocab_size, embedding_dim)\n",
    "scale = glove_embedding_weights.std()*np.sqrt(12)/2 # uniform and not normal\n",
    "embedding = np.random.uniform(low=-scale, high=scale, size=shape)\n",
    "print('random-embedding/glove scale', scale, 'std', embedding.std())\n",
    "\n",
    "# copy from glove weights of words that appear in our short vocabulary (idx2word)\n",
    "c = 0\n",
    "for i in range(vocab_size):\n",
    "    w = idx2word[i]\n",
    "    g = glove_index_dict.get(w, glove_index_dict.get(w.lower()))\n",
    "    if g is None and w.startswith('#'): # glove has no hastags (I think...)\n",
    "        w = w[1:]\n",
    "        g = glove_index_dict.get(w, glove_index_dict.get(w.lower()))\n",
    "    if g is not None:\n",
    "        embedding[i,:] = glove_embedding_weights[g,:]\n",
    "        c+=1\n",
    "print('number of tokens, in small vocab, found in glove and copied to embedding', c,c/float(vocab_size))"
   ]
  },
  {
   "cell_type": "markdown",
   "metadata": {},
   "source": [
    "lots of word in the full vocabulary (word2idx) are outside `vocab_size`.\n",
    "Build an alterantive which will map them to their closest match in glove but only if the match\n",
    "is good enough (cos distance above `glove_thr`)"
   ]
  },
  {
   "cell_type": "code",
   "execution_count": 42,
   "metadata": {
    "collapsed": true
   },
   "outputs": [],
   "source": [
    "glove_thr = 0.5"
   ]
  },
  {
   "cell_type": "code",
   "execution_count": 43,
   "metadata": {
    "collapsed": true
   },
   "outputs": [],
   "source": [
    "word2glove = {}\n",
    "for w in word2idx:\n",
    "    if w in glove_index_dict:\n",
    "        g = w\n",
    "    elif w.lower() in glove_index_dict:\n",
    "        g = w.lower()\n",
    "    elif w.startswith('#') and w[1:] in glove_index_dict:\n",
    "        g = w[1:]\n",
    "    elif w.startswith('#') and w[1:].lower() in glove_index_dict:\n",
    "        g = w[1:].lower()\n",
    "    else:\n",
    "        continue\n",
    "    word2glove[w] = g"
   ]
  },
  {
   "cell_type": "markdown",
   "metadata": {},
   "source": [
    "for every word outside the embedding matrix find the closest word inside the mebedding matrix.\n",
    "Use cos distance of GloVe vectors.\n",
    "\n",
    "Allow for the last `nb_unknown_words` words inside the embedding matrix to be considered to be outside.\n",
    "Dont accept distances below `glove_thr`"
   ]
  },
  {
   "cell_type": "code",
   "execution_count": 44,
   "metadata": {},
   "outputs": [
    {
     "name": "stdout",
     "output_type": "stream",
     "text": [
      "# of glove substitutes found 3541\n"
     ]
    }
   ],
   "source": [
    "normed_embedding = embedding/np.array([np.sqrt(np.dot(gweight,gweight)) for gweight in embedding])[:,None]\n",
    "\n",
    "nb_unknown_words = 100\n",
    "\n",
    "glove_match = []\n",
    "for w,idx in word2idx.items():\n",
    "    if idx >= vocab_size-nb_unknown_words and w.isalpha() and w in word2glove:\n",
    "        gidx = glove_index_dict[word2glove[w]]\n",
    "        gweight = glove_embedding_weights[gidx,:].copy()\n",
    "        # find row in embedding that has the highest cos score with gweight\n",
    "        gweight /= np.sqrt(np.dot(gweight,gweight))\n",
    "        score = np.dot(normed_embedding[:vocab_size-nb_unknown_words], gweight)\n",
    "        while True:\n",
    "            embedding_idx = score.argmax()\n",
    "            s = score[embedding_idx]\n",
    "            if s < glove_thr:\n",
    "                break\n",
    "            if idx2word[embedding_idx] in word2glove :\n",
    "                glove_match.append((w, embedding_idx, s)) \n",
    "                break\n",
    "            score[embedding_idx] = -1\n",
    "glove_match.sort(key = lambda x: -x[2])\n",
    "print('# of glove substitutes found', len(glove_match))"
   ]
  },
  {
   "cell_type": "markdown",
   "metadata": {},
   "source": [
    "manually check that the worst substitutions we are going to do are good enough"
   ]
  },
  {
   "cell_type": "code",
   "execution_count": 45,
   "metadata": {},
   "outputs": [
    {
     "name": "stdout",
     "output_type": "stream",
     "text": [
      "0.501071989383 opp => etc\n",
      "0.500790394178 giga => rbc\n",
      "0.500646643643 formato => tsf\n",
      "0.500554290739 picard => noe\n",
      "0.500385972636 katy => travis\n",
      "0.500356602128 infesting => digitising\n",
      "0.50025490251 cage => mask\n",
      "0.500204880576 thermography => microstrip\n",
      "0.500160348413 qubit => exciton\n",
      "0.500085234816 enoch => burroughs\n"
     ]
    }
   ],
   "source": [
    "for orig, sub, score in glove_match[-10:]:\n",
    "    print(score, orig,'=>', idx2word[sub])"
   ]
  },
  {
   "cell_type": "markdown",
   "metadata": {},
   "source": [
    "build a lookup table of index of outside words to index of inside words"
   ]
  },
  {
   "cell_type": "code",
   "execution_count": 46,
   "metadata": {
    "collapsed": true
   },
   "outputs": [],
   "source": [
    "glove_idx2idx = dict((word2idx[w],embedding_idx) for  w, embedding_idx, _ in glove_match)"
   ]
  },
  {
   "cell_type": "markdown",
   "metadata": {},
   "source": [
    "# Data"
   ]
  },
  {
   "cell_type": "code",
   "execution_count": 51,
   "metadata": {},
   "outputs": [
    {
     "data": {
      "text/plain": [
       "2273"
      ]
     },
     "execution_count": 51,
     "metadata": {},
     "output_type": "execute_result"
    }
   ],
   "source": [
    "Y = [[word2idx[token] for token in headline.split() if not token in stopWords] for headline in heads_data]\n",
    "len(Y)"
   ]
  },
  {
   "cell_type": "code",
   "execution_count": 52,
   "metadata": {},
   "outputs": [
    {
     "data": {
      "image/png": "[encoded data removed]",
      "text/plain": [
       "<matplotlib.figure.Figure at 0x7fcfcd1b15c0>"
      ]
     },
     "metadata": {},
     "output_type": "display_data"
    }
   ],
   "source": [
    "plt.hist(list(map(len,Y)),bins=50);"
   ]
  },
  {
   "cell_type": "code",
   "execution_count": 53,
   "metadata": {},
   "outputs": [
    {
     "data": {
      "text/plain": [
       "2273"
      ]
     },
     "execution_count": 53,
     "metadata": {},
     "output_type": "execute_result"
    }
   ],
   "source": [
    "X = [[word2idx[token] for token in d.split() if not token in stopWords] for d in desc_data]\n",
    "len(X)"
   ]
  },
  {
   "cell_type": "code",
   "execution_count": 54,
   "metadata": {
    "scrolled": true
   },
   "outputs": [
    {
     "data": {
      "image/png": "[encoded data removed]",
      "text/plain": [
       "<matplotlib.figure.Figure at 0x7fcfc9cc3e48>"
      ]
     },
     "metadata": {},
     "output_type": "display_data"
    }
   ],
   "source": [
    "plt.hist(list(map(len,X)),bins=50);"
   ]
  },
  {
   "cell_type": "code",
   "execution_count": 55,
   "metadata": {
    "collapsed": true
   },
   "outputs": [],
   "source": [
    "import pickle\n",
    "with open('data/%s.pkl'%FN,'wb') as fp:\n",
    "    pickle.dump((embedding, idx2word, word2idx, glove_idx2idx),fp,-1)"
   ]
  },
  {
   "cell_type": "code",
   "execution_count": 56,
   "metadata": {
    "collapsed": true
   },
   "outputs": [],
   "source": [
    "# import pickle\n",
    "with open('data/%s.data.pkl'%FN,'wb') as fp:\n",
    "    pickle.dump((X,Y),fp,-1)"
   ]
  }
 ],
 "metadata": {
  "kernelspec": {
   "display_name": "Python 3",
   "language": "python",
   "name": "python3"
  },
  "language_info": {
   "codemirror_mode": {
    "name": "ipython",
    "version": 3
   },
   "file_extension": ".py",
   "mimetype": "text/x-python",
   "name": "python",
   "nbconvert_exporter": "python",
   "pygments_lexer": "ipython3",
   "version": "3.5.1"
  }
 },
 "nbformat": 4,
 "nbformat_minor": 1
}
